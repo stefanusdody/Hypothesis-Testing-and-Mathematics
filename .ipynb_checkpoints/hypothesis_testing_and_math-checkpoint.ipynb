{
 "cells": [
  {
   "cell_type": "markdown",
   "id": "e8edd14f",
   "metadata": {},
   "source": [
    "# 1. Perkenalan"
   ]
  },
  {
   "cell_type": "markdown",
   "id": "0f3d9af2",
   "metadata": {},
   "source": [
    "* Nama  :  Stepanus Dody Kristianto Wicaksono\n",
    "* Batch : 001"
   ]
  },
  {
   "cell_type": "markdown",
   "id": "19aa33b8",
   "metadata": {},
   "source": [
    "# 2. Live Code 3\n",
    "\n",
    "dataset berasal dari: https://raw.githubusercontent.com/fahmimnalfrzki/Dataset/main/purchase_data.txt?token=AEZDEHRU5YLQEXGDDLCL6CLA2KZTI\n",
    "\n",
    "Keterangan Dataset:\n",
    "\n",
    "* user_id = id pelanggan\n",
    "* timestamp = Waktu ketika pelanggan mengakses laman web\n",
    "* group = grup kontrol dan treatment\n",
    "* landing_page = landing page yang diakses oleh pelanggan (laman lama atau laman baru)\n",
    "* purchased = 0 : tidak ada pembelian, and 1: ada pembelian\n",
    "\n",
    "Objective :\n",
    "* menentukan apakah data cenderung berpusat pada purchased=0 atau purchased=1\n",
    "* analisa menggunakan konsep hypothesis testing dan A/B testing (Informasikan H0 dan H1 pada bagian Mathematical Calculation and Analysis)"
   ]
  },
  {
   "cell_type": "markdown",
   "id": "83db2a14",
   "metadata": {},
   "source": [
    "# 3. Import Pustaka"
   ]
  },
  {
   "cell_type": "code",
   "execution_count": 1,
   "id": "e3f450a7",
   "metadata": {},
   "outputs": [],
   "source": [
    "import pandas as pd\n",
    "import numpy as np\n",
    "import matplotlib.pyplot as plt\n",
    "import scipy.stats as stats\n",
    "import scipy.stats as ttest_1samp\n",
    "\n",
    "%matplotlib inline"
   ]
  },
  {
   "cell_type": "markdown",
   "id": "4e943b02",
   "metadata": {},
   "source": [
    "# 4. Data Loading"
   ]
  },
  {
   "cell_type": "code",
   "execution_count": 2,
   "id": "82a97be9",
   "metadata": {},
   "outputs": [],
   "source": [
    "df = pd.read_csv(\"https://raw.githubusercontent.com/fahmimnalfrzki/Dataset/main/purchase_data.txt?token=AEZDEHRU5YLQEXGDDLCL6CLA2KZTI\", delimiter = \";\")"
   ]
  },
  {
   "cell_type": "markdown",
   "id": "9e516e90",
   "metadata": {},
   "source": [
    "#### 4.1 Melihat Data"
   ]
  },
  {
   "cell_type": "code",
   "execution_count": 3,
   "id": "61be227c",
   "metadata": {},
   "outputs": [
    {
     "data": {
      "text/html": [
       "<div>\n",
       "<style scoped>\n",
       "    .dataframe tbody tr th:only-of-type {\n",
       "        vertical-align: middle;\n",
       "    }\n",
       "\n",
       "    .dataframe tbody tr th {\n",
       "        vertical-align: top;\n",
       "    }\n",
       "\n",
       "    .dataframe thead th {\n",
       "        text-align: right;\n",
       "    }\n",
       "</style>\n",
       "<table border=\"1\" class=\"dataframe\">\n",
       "  <thead>\n",
       "    <tr style=\"text-align: right;\">\n",
       "      <th></th>\n",
       "      <th>user_id</th>\n",
       "      <th>timestamp</th>\n",
       "      <th>group</th>\n",
       "      <th>landing_page</th>\n",
       "      <th>purchased</th>\n",
       "    </tr>\n",
       "  </thead>\n",
       "  <tbody>\n",
       "    <tr>\n",
       "      <th>0</th>\n",
       "      <td>851104</td>\n",
       "      <td>2017-01-21 22:11:48.556739</td>\n",
       "      <td>control</td>\n",
       "      <td>old_page</td>\n",
       "      <td>0</td>\n",
       "    </tr>\n",
       "    <tr>\n",
       "      <th>1</th>\n",
       "      <td>804228</td>\n",
       "      <td>2017-01-12 08:01:45.159739</td>\n",
       "      <td>control</td>\n",
       "      <td>old_page</td>\n",
       "      <td>0</td>\n",
       "    </tr>\n",
       "    <tr>\n",
       "      <th>2</th>\n",
       "      <td>661590</td>\n",
       "      <td>2017-01-11 16:55:06.154213</td>\n",
       "      <td>treatment</td>\n",
       "      <td>new_page</td>\n",
       "      <td>0</td>\n",
       "    </tr>\n",
       "    <tr>\n",
       "      <th>3</th>\n",
       "      <td>853541</td>\n",
       "      <td>2017-01-08 18:28:03.143765</td>\n",
       "      <td>treatment</td>\n",
       "      <td>new_page</td>\n",
       "      <td>0</td>\n",
       "    </tr>\n",
       "    <tr>\n",
       "      <th>4</th>\n",
       "      <td>864975</td>\n",
       "      <td>2017-01-21 01:52:26.210827</td>\n",
       "      <td>control</td>\n",
       "      <td>old_page</td>\n",
       "      <td>1</td>\n",
       "    </tr>\n",
       "  </tbody>\n",
       "</table>\n",
       "</div>"
      ],
      "text/plain": [
       "   user_id                   timestamp      group landing_page  purchased\n",
       "0   851104  2017-01-21 22:11:48.556739    control     old_page          0\n",
       "1   804228  2017-01-12 08:01:45.159739    control     old_page          0\n",
       "2   661590  2017-01-11 16:55:06.154213  treatment     new_page          0\n",
       "3   853541  2017-01-08 18:28:03.143765  treatment     new_page          0\n",
       "4   864975  2017-01-21 01:52:26.210827    control     old_page          1"
      ]
     },
     "execution_count": 3,
     "metadata": {},
     "output_type": "execute_result"
    }
   ],
   "source": [
    "# melihat 5 data teratas\n",
    "df.head()"
   ]
  },
  {
   "cell_type": "code",
   "execution_count": 4,
   "id": "0a90bf5b",
   "metadata": {},
   "outputs": [
    {
     "data": {
      "text/plain": [
       "0         0\n",
       "1         0\n",
       "2         0\n",
       "3         0\n",
       "4         1\n",
       "         ..\n",
       "294473    0\n",
       "294474    0\n",
       "294475    0\n",
       "294476    0\n",
       "294477    0\n",
       "Name: purchased, Length: 294478, dtype: int64"
      ]
     },
     "execution_count": 4,
     "metadata": {},
     "output_type": "execute_result"
    }
   ],
   "source": [
    "# melihat data purchased\n",
    "df.purchased"
   ]
  },
  {
   "cell_type": "markdown",
   "id": "cfa340c3",
   "metadata": {},
   "source": [
    "# 5. Data Processing"
   ]
  },
  {
   "cell_type": "code",
   "execution_count": 5,
   "id": "12e8e611",
   "metadata": {},
   "outputs": [
    {
     "data": {
      "text/plain": [
       "user_id         0\n",
       "timestamp       0\n",
       "group           0\n",
       "landing_page    0\n",
       "purchased       0\n",
       "dtype: int64"
      ]
     },
     "execution_count": 5,
     "metadata": {},
     "output_type": "execute_result"
    }
   ],
   "source": [
    "# melihat missing values\n",
    "df.isna().sum()"
   ]
  },
  {
   "cell_type": "markdown",
   "id": "333d0996",
   "metadata": {},
   "source": [
    "tidak terdapat missing data "
   ]
  },
  {
   "cell_type": "code",
   "execution_count": 6,
   "id": "78bc72db",
   "metadata": {},
   "outputs": [
    {
     "name": "stdout",
     "output_type": "stream",
     "text": [
      "<class 'pandas.core.frame.DataFrame'>\n",
      "RangeIndex: 294478 entries, 0 to 294477\n",
      "Data columns (total 5 columns):\n",
      " #   Column        Non-Null Count   Dtype \n",
      "---  ------        --------------   ----- \n",
      " 0   user_id       294478 non-null  int64 \n",
      " 1   timestamp     294478 non-null  object\n",
      " 2   group         294478 non-null  object\n",
      " 3   landing_page  294478 non-null  object\n",
      " 4   purchased     294478 non-null  int64 \n",
      "dtypes: int64(2), object(3)\n",
      "memory usage: 11.2+ MB\n"
     ]
    }
   ],
   "source": [
    "# Melihat informasi data\n",
    "df.info()"
   ]
  },
  {
   "cell_type": "code",
   "execution_count": 7,
   "id": "6281ead6",
   "metadata": {},
   "outputs": [
    {
     "data": {
      "text/plain": [
       "Index(['user_id', 'timestamp', 'group', 'landing_page', 'purchased'], dtype='object')"
      ]
     },
     "execution_count": 7,
     "metadata": {},
     "output_type": "execute_result"
    }
   ],
   "source": [
    "# Melihat Columns data\n",
    "df.columns"
   ]
  },
  {
   "cell_type": "code",
   "execution_count": 8,
   "id": "f6d88920",
   "metadata": {},
   "outputs": [
    {
     "data": {
      "text/plain": [
       "(294478, 5)"
      ]
     },
     "execution_count": 8,
     "metadata": {},
     "output_type": "execute_result"
    }
   ],
   "source": [
    "# melihat ukuran rows dan columns dataset\n",
    "df.shape"
   ]
  },
  {
   "cell_type": "markdown",
   "id": "427f4244",
   "metadata": {},
   "source": [
    "# 6. Mathematical Calculation and Analysis"
   ]
  },
  {
   "cell_type": "markdown",
   "id": "6ede7a59",
   "metadata": {},
   "source": [
    "#### 6.1 Central Tendency\n",
    "\n",
    "dalam menentukan Central Tendency akan dilakukan perhitungan mean, median dan modus untuk column variabel purchase"
   ]
  },
  {
   "cell_type": "code",
   "execution_count": 9,
   "id": "469fc0ca",
   "metadata": {},
   "outputs": [
    {
     "name": "stdout",
     "output_type": "stream",
     "text": [
      "Mean Purchased: \n",
      " 0.11965919355605512\n"
     ]
    }
   ],
   "source": [
    "# mean\n",
    "mean = df.purchased.mean()\n",
    "print(\"Mean Purchased: \\n\", mean)"
   ]
  },
  {
   "cell_type": "code",
   "execution_count": 10,
   "id": "73555628",
   "metadata": {},
   "outputs": [
    {
     "name": "stdout",
     "output_type": "stream",
     "text": [
      "Median Purchased: \n",
      " 0.0\n"
     ]
    }
   ],
   "source": [
    "# Median\n",
    "median = df.purchased.median()\n",
    "print(\"Median Purchased: \\n\", median)"
   ]
  },
  {
   "cell_type": "code",
   "execution_count": 11,
   "id": "1301bf23",
   "metadata": {},
   "outputs": [
    {
     "name": "stdout",
     "output_type": "stream",
     "text": [
      "Modus Purchased: \n",
      " 0\n"
     ]
    }
   ],
   "source": [
    "# Modus\n",
    "modus = df.purchased.mode()[0]\n",
    "print(\"Modus Purchased: \\n\", modus)"
   ]
  },
  {
   "cell_type": "markdown",
   "id": "fb7b2db7",
   "metadata": {},
   "source": [
    "#### 6.2 Melihat pusat data"
   ]
  },
  {
   "cell_type": "code",
   "execution_count": 12,
   "id": "b56230b7",
   "metadata": {},
   "outputs": [
    {
     "data": {
      "image/png": "[encoded data removed]",
      "text/plain": [
       "<Figure size 432x288 with 1 Axes>"
      ]
     },
     "metadata": {
      "needs_background": "light"
     },
     "output_type": "display_data"
    }
   ],
   "source": [
    "# membuat variabel purchased\n",
    "purchased = df.purchased\n",
    "\n",
    "# membuat variabel density\n",
    "density = stats.gaussian_kde(purchased)\n",
    "\n",
    "n, x, _ = plt.hist(purchased, histtype=\"step\", bins=25)\n",
    "\n",
    "# plotting density\n",
    "plt.plot(x, density(x)*7)\n",
    "plt.axvline(purchased.mean(), color='red', linestyle=\"dashed\", linewidth=2);\n",
    "plt.axvline(purchased.median(), color=\"magenta\", linestyle=\"dashed\", linewidth=2)\n",
    "plt.show()"
   ]
  },
  {
   "cell_type": "markdown",
   "id": "8eeaceeb",
   "metadata": {},
   "source": [
    "dari plot terlihat bahwa data distribusinya cenderung ke nilai O, hal tersebut dapat terlihat juga dengan nilai mean dan juga median variabel yang berada di sisi kiri "
   ]
  },
  {
   "cell_type": "markdown",
   "id": "ce0767aa",
   "metadata": {},
   "source": [
    "#### 6.3 A/B Testing"
   ]
  },
  {
   "cell_type": "markdown",
   "id": "ccc9fa78",
   "metadata": {},
   "source": [
    "Dalam Uji Hypothesis ini menggunakan metode One Sampled T-Test\n",
    "\n",
    "Dalam analisa hypothesis testing terhadap variabel purchased kita ingin menguji apakah data cenderung berpusat atau tidak pada angka 0, sehingga kita dapat menyatakan Hypothesis sebagai berikut:\n",
    "\n",
    "* Hypothesis Null(H0) adalah menyatakan bahwa data cenderung berpusat pada titik 0,\n",
    "* Hypothesis alternatif(H1) adalah menyatakan bahwa data cenderung tidak berpusat pada titik 0\n",
    "\n",
    "Kita dapat menulis ini sebagai ekspresi yang saling eksklusif seperti ini:\n",
    "\n",
    "$$\n",
    "\\begin{equation}H_{0}: \\mu = 0 \\\\ H_{1}: \\mu \\neq 0 \\end{equation}\n",
    "$$\n",
    "\n",
    "Kriteria Pengujian Hypothesis adalah:\n",
    "\n",
    "* H0 diterima, apabila uji statistik berada diluar nilai kritis;\n",
    "* H0 ditolak, apabila uji statistik berada di dalam nilai kritis\n",
    "\n",
    "dalam analisa ini kita juga menetapkan Confidence Interval sebesar 95% dengan Critical Value sebesar 5%"
   ]
  },
  {
   "cell_type": "code",
   "execution_count": 13,
   "id": "08e05974",
   "metadata": {},
   "outputs": [
    {
     "name": "stdout",
     "output_type": "stream",
     "text": [
      "Mean Purchased: \n",
      " 0.11965919355605512\n",
      "\n",
      "\n",
      "Standar Deviasi Purchased: \n",
      " 0.32456313511492474\n",
      "\n",
      "\n",
      "P Value: \n",
      " 0.5688025848985372\n",
      "\n",
      "\n",
      "Confidence Inteval: \n",
      " 0.95\n",
      "\n",
      "\n",
      "Critical Value: \n",
      " 0.05\n",
      "\n",
      "\n"
     ]
    },
    {
     "data": {
      "image/png": "[encoded data removed]",
      "text/plain": [
       "<Figure size 432x288 with 1 Axes>"
      ]
     },
     "metadata": {
      "needs_background": "light"
     },
     "output_type": "display_data"
    },
    {
     "name": "stdout",
     "output_type": "stream",
     "text": [
      "Dari Hasil Hypotesis Testing dapat disimpulkan: \n",
      "\n",
      "Hypothesis Null (H0) diterima, data cenderung berpusat pada titik 0\n"
     ]
    }
   ],
   "source": [
    "# melihat mean dari variabel purchased\n",
    "mean = df.purchased.mean()\n",
    "print(\"Mean Purchased: \\n\", mean)\n",
    "print(\"\\n\")\n",
    "\n",
    "# melihat standar deviasi dari variabel purchased\n",
    "std = df.purchased.std()\n",
    "print(\"Standar Deviasi Purchased: \\n\", std)\n",
    "print(\"\\n\")\n",
    "\n",
    "# T-Test\n",
    "t,p = stats.ttest_1samp(purchased, 0.12)\n",
    "print(\"P Value: \\n\", p)\n",
    "print(\"\\n\")\n",
    "\n",
    "# Confidence Interval\n",
    "confidence_interval = 0.95\n",
    "print(\"Confidence Inteval: \\n\", confidence_interval)\n",
    "print(\"\\n\")\n",
    "\n",
    "# Critical Value (alpha)\n",
    "alpha = 0.05\n",
    "print(\"Critical Value: \\n\", alpha)\n",
    "print(\"\\n\")\n",
    "\n",
    "# menghitung 95% confidence interval\n",
    "ci = stats.norm.interval(confidence_interval, 0.12, 0.32)\n",
    "\n",
    "# plot histogram\n",
    "plt.hist(purchased, bins=50)\n",
    "\n",
    "# menampilkan purchased mean\n",
    "plt.axvline(purchased.mean(), color=\"yellow\", linestyle=\"dashed\", linewidth=2)\n",
    "\n",
    "# menampilkan confidence interval - threshold 5%\n",
    "plt.axvline(ci[0], color='red', linestyle='dashed', linewidth=2)\n",
    "plt.axvline(ci[1], color='red', linestyle='dashed', linewidth=2)\n",
    "\n",
    "# menampilkan garis the t-statistic and p-value\n",
    "plt.axvline(purchased.mean() - t*purchased.std(), color=\"magenta\", linestyle='dashed', linewidth=2)\n",
    "plt.axvline(purchased.mean() + t*purchased.std(), color=\"magenta\", linestyle='dashed', linewidth=2)\n",
    "\n",
    "# menampilkan plot histogram\n",
    "plt.show()\n",
    "\n",
    "# Menentukan Hasil Hypothesis\n",
    "print(\"Dari Hasil Hypotesis Testing dapat disimpulkan: \\n\")\n",
    "if p < alpha:\n",
    "    print(\"Hypothesis Null (H0) ditolak, data cenderung tidak berpusat pada titik 0 \")\n",
    "else:\n",
    "    print(\"Hypothesis Null (H0) diterima, data cenderung berpusat pada titik 0\")"
   ]
  },
  {
   "cell_type": "markdown",
   "id": "4eecb36f",
   "metadata": {},
   "source": [
    "Dari hasil Hypothesis testing terlihat bahwa nilai p_value lebih besar dari nilai Critical Value sehingga Hypothesis Null (H0) diterima"
   ]
  },
  {
   "cell_type": "markdown",
   "id": "772352a6",
   "metadata": {},
   "source": [
    "# 7. Hasil"
   ]
  },
  {
   "cell_type": "markdown",
   "id": "04cabb1a",
   "metadata": {},
   "source": [
    "Dari hasil Hypothesis testing data terhadap variabel purchased menggunakan metode One Sampled T-Test dengan nilai Confidence Interval sebesar 95% dan Critical Value sebesar 5%, maka dapat disimpulkan atau diperkirakan bahwa kemungkinan data cenderung berpusat pada purchased = 0, hal tersebut dapat terlihat dari hasil Hypothesis testing bahwa nilai p_value lebih besar dari nilai Critical Value"
   ]
  },
  {
   "cell_type": "code",
   "execution_count": null,
   "id": "ffb56374",
   "metadata": {},
   "outputs": [],
   "source": []
  }
 ],
 "metadata": {
  "kernelspec": {
   "display_name": "Python 3",
   "language": "python",
   "name": "python3"
  },
  "language_info": {
   "codemirror_mode": {
    "name": "ipython",
    "version": 3
   },
   "file_extension": ".py",
   "mimetype": "text/x-python",
   "name": "python",
   "nbconvert_exporter": "python",
   "pygments_lexer": "ipython3",
   "version": "3.8.5"
  }
 },
 "nbformat": 4,
 "nbformat_minor": 5
}
